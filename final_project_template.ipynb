{
 "cells": [
  {
   "cell_type": "markdown",
   "metadata": {},
   "source": [
    "# Final Project Template\n",
    "\n",
    "For your final project, you are required to create an object detection and classification pipeline using the provided datasets. You will train a classification model using the included images and then apply this model for inference on the provided still image.\n",
    "\n",
    "Here are the detailed steps for your project:\n",
    "\n",
    "1) Begin by implementing one of the classic object detection techniques we have covered, such as HSV tracking, blob detection, edge detection. You can choose to employ one technique or combine multiple ones. The goal is to create bounding boxes around objects within the scene. To facilitate the classification step, ensure that all bounding boxes are in the form of rectangles.&nbsp;\n",
    "\n",
    "2) Utilize the provided images to train a Convolutional Neural Network (CNN) model for the classification of the objects within the bounding boxes. You can use Google Colab to train larger models that require a GPU. We will discuss the specifics of this process in class.&nbsp;\n",
    "\n",
    "3) Finally, render the final still image with bounding boxes and text that display the classification label of the object contained within each box.\n",
    "\n",
    "We will build and discuss small examples of each step in this project to help you successfully complete it.\n",
    "\n",
    "Submit a notebook with your all your model training and object detection steps.&nbsp; Also include your model in \".keras\" or \".tf\" format.\n",
    "\n",
    "The datasets (choose one, you don't have to do both!):\n",
    "\n",
    "1) Car/Truck/Airplane\n",
    "\n",
    "2) Dog/Bird/Deer\n",
    "\n",
    "\n",
    "\n",
    "Notes:\n",
    "\n",
    "1) You are creating a small model which can classify small images.&nbsp; &nbsp;Follow the basic structure and format we discussed in class.&nbsp;\n",
    "\n",
    "2) Your models will not be perfect, averaging around 75% accuracy,&nbsp; and mislabeling will happen.&nbsp; Concentrate on your object detection pipeline to create bounding boxes and then passing the image data to your model for classification.&nbsp;\n",
    "\n",
    "3) Make sure your bounding boxes are sized correctly for your model.\n",
    "\n",
    "4) If you normalize your image data (0-1) then you need to normalize the images from your bounding boxes before you pass them to your model.\n",
    "\n",
    "5) Your models will be trained with labels as integer values and will need to be mapped to your class names.&nbsp; \"Deer\", \"Dog\" ... etc.&nbsp;&nbsp;"
   ]
  },
  {
   "cell_type": "markdown",
   "metadata": {},
   "source": [
    "## Model Training"
   ]
  },
  {
   "cell_type": "code",
   "execution_count": null,
   "metadata": {},
   "outputs": [],
   "source": [
    "# Code for your model goes here"
   ]
  },
  {
   "cell_type": "markdown",
   "metadata": {},
   "source": [
    "# Model Evaluation"
   ]
  },
  {
   "cell_type": "code",
   "execution_count": null,
   "metadata": {},
   "outputs": [],
   "source": [
    "# Code showing the accuracy of your model."
   ]
  },
  {
   "cell_type": "markdown",
   "metadata": {},
   "source": [
    "# Object Detection"
   ]
  },
  {
   "cell_type": "code",
   "execution_count": null,
   "metadata": {},
   "outputs": [],
   "source": [
    "# Code for your object detector goes here"
   ]
  },
  {
   "cell_type": "markdown",
   "metadata": {},
   "source": [
    "# Classification of Detected Objects"
   ]
  },
  {
   "cell_type": "code",
   "execution_count": null,
   "metadata": {},
   "outputs": [],
   "source": [
    "# Render a final image showing the result of your object detector with bounding boxes and labels on the original image.\n",
    "\n",
    "# Text properties\n",
    "# text = \"image label\"\n",
    "# position = (50, 50)  # x, y coordinates\n",
    "# font = cv2.FONT_HERSHEY_SIMPLEX\n",
    "# font_scale = 1\n",
    "# color = (255, 255, 255)  # White color in BGR\n",
    "# thickness = 2\n",
    "\n",
    "# Put the text on the image\n",
    "# cv2.putText(image, text, position, font, font_scale, color, thickness)"
   ]
  }
 ],
 "metadata": {
  "kernelspec": {
   "display_name": "opencv",
   "language": "python",
   "name": "python3"
  },
  "language_info": {
   "name": "python",
   "version": "3.7.13"
  }
 },
 "nbformat": 4,
 "nbformat_minor": 2
}
